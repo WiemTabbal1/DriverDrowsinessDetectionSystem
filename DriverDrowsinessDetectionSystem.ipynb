{
 "cells": [
  {
   "cell_type": "code",
   "execution_count": 28,
   "id": "35046d6f",
   "metadata": {},
   "outputs": [
    {
     "name": "stdout",
     "output_type": "stream",
     "text": [
      "Requirement already satisfied: pygame in c:\\users\\user\\anaconda3\\lib\\site-packages (2.1.2)\n"
     ]
    }
   ],
   "source": [
    "!pip install pygame "
   ]
  },
  {
   "cell_type": "code",
   "execution_count": 29,
   "id": "24e0d506",
   "metadata": {},
   "outputs": [],
   "source": [
    "import cv2\n",
    "import os\n",
    "from keras.models import load_model\n",
    "import numpy as np\n",
    "from pygame import mixer\n",
    "import time"
   ]
  },
  {
   "cell_type": "code",
   "execution_count": 30,
   "id": "71d565ab",
   "metadata": {},
   "outputs": [],
   "source": [
    "# this is used to get beep sound (when person closes his eyes for more them 10sec)\n",
    "mixer.init()\n",
    "alarm_sound = mixer.Sound('alarm.wav')"
   ]
  },
  {
   "cell_type": "code",
   "execution_count": 31,
   "id": "a74f8abe",
   "metadata": {},
   "outputs": [],
   "source": [
    "# this xml files are used to detect face , left eye , and right eye of a person.\n",
    "face_detection = cv2.CascadeClassifier('haarcascade_frontalface_alt.xml')\n",
    "left_eye_detection = cv2.CascadeClassifier('haarcascade_lefteye_2splits.xml')\n",
    "right_eye_detection = cv2.CascadeClassifier('haarcascade_righteye_2splits.xml')\n",
    "\n",
    "labels =['Close','Open']"
   ]
  },
  {
   "cell_type": "code",
   "execution_count": 32,
   "id": "ede16858",
   "metadata": {},
   "outputs": [],
   "source": [
    "from tensorflow.keras.models import load_model"
   ]
  },
  {
   "cell_type": "code",
   "execution_count": 33,
   "id": "4f394ee0",
   "metadata": {},
   "outputs": [],
   "source": [
    "# load the model, that we have created\n",
    "model = load_model('custmodel.h5')\n",
    "\n",
    "path = os.getcwd()"
   ]
  },
  {
   "cell_type": "code",
   "execution_count": 34,
   "id": "fc8eed4d",
   "metadata": {},
   "outputs": [],
   "source": [
    "# to capture each frame\n",
    "capture = cv2.VideoCapture(0)"
   ]
  },
  {
   "cell_type": "code",
   "execution_count": 35,
   "id": "0c1b2209",
   "metadata": {},
   "outputs": [],
   "source": [
    "#check if the webcam is opened correctly\n",
    "if capture.isOpened():\n",
    "    capture = cv2.VideoCapture(0)\n",
    "if not capture.isOpened():\n",
    "    raise IOError(\"Cannot open webcam\")\n",
    "\n",
    "font = cv2.FONT_HERSHEY_COMPLEX_SMALL"
   ]
  },
  {
   "cell_type": "code",
   "execution_count": 36,
   "id": "02006049",
   "metadata": {},
   "outputs": [],
   "source": [
    "#declaring variables \n",
    "counter = 0\n",
    "time = 0\n",
    "thick = 2\n",
    "right_eye_pred=[99]\n",
    "left_eye_pred=[99]"
   ]
  },
  {
   "cell_type": "code",
   "execution_count": null,
   "id": "1c1651c8",
   "metadata": {},
   "outputs": [
    {
     "name": "stdout",
     "output_type": "stream",
     "text": [
      "WARNING:tensorflow:From <ipython-input-37-7dd58f1ea449>:30: Sequential.predict_classes (from tensorflow.python.keras.engine.sequential) is deprecated and will be removed after 2021-01-01.\n",
      "Instructions for updating:\n",
      "Please use instead:* `np.argmax(model.predict(x), axis=-1)`,   if your model does multi-class classification   (e.g. if it uses a `softmax` last-layer activation).* `(model.predict(x) > 0.5).astype(\"int32\")`,   if your model does binary classification   (e.g. if it uses a `sigmoid` last-layer activation).\n"
     ]
    }
   ],
   "source": [
    "while(True):\n",
    "    ret, frame = capture.read()\n",
    "    height,width = frame.shape[:2] \n",
    "\n",
    "    #convert the captured image to grey color:\n",
    "    gray = cv2.cvtColor(frame, cv2.COLOR_BGR2GRAY)\n",
    "\n",
    "    #perform detection(this will return x,y coordinates , height , width of the boundary boxes object)\n",
    "    faces = face_detection.detectMultiScale(gray,minNeighbors=5,scaleFactor=1.1,minSize=(25,25))\n",
    "    left_eye = left_eye_detection.detectMultiScale(gray)\n",
    "    right_eye =   right_eye_detection.detectMultiScale(gray)\n",
    "\n",
    "    cv2.rectangle(frame, (0,height-50) , (100,height) , (0,0,0) , thickness=cv2.FILLED )\n",
    "    cv2.rectangle(frame, (290,height-50) , (540,height) , (0,0,0) , thickness=cv2.FILLED )\n",
    "\n",
    "    #iterating over faces and drawing boundary boxes for each face:\n",
    "    for (x,y,w,h) in faces:\n",
    "        cv2.rectangle(frame, (x,y) , (x+w,y+h) , (100,100,100) , 1 )\n",
    "        \n",
    "    #iterating over right eye:\n",
    "    for (x,y,w,h) in right_eye:\n",
    "        #pull out the right eye image from the frame:\n",
    "        right_one=frame[y:y+h,x:x+w]\n",
    "        counter += 1\n",
    "        right_one = cv2.cvtColor(right_one,cv2.COLOR_BGR2GRAY)\n",
    "        right_one = cv2.resize(right_one,(24,24))\n",
    "        right_one = right_one/255\n",
    "        right_one =  right_one.reshape(24,24,-1)\n",
    "        right_one = np.expand_dims(right_one,axis=0)\n",
    "        right_eye_pred = model.predict_classes(right_one)\n",
    "        if(right_eye_pred[0] == 1):\n",
    "            labels = 'Open' \n",
    "        if(right_eye_pred[0]==0):\n",
    "            labels = 'Closed'\n",
    "        break\n",
    "\n",
    "    #iterating over left eye:\n",
    "    for (x,y,w,h) in left_eye:\n",
    "        #pull out the left eye image from the frame:\n",
    "        left_one=frame[y:y+h,x:x+w]\n",
    "        counter += 1\n",
    "        left_one = cv2.cvtColor(left_one,cv2.COLOR_BGR2GRAY)  \n",
    "        left_one = cv2.resize(left_one,(24,24))\n",
    "        left_one = left_one/255\n",
    "        left_one = left_one.reshape(24,24,-1)\n",
    "        left_one = np.expand_dims(left_one,axis=0)\n",
    "        left_eye_pred = model.predict_classes(left_one)\n",
    "        if(left_eye_pred[0] == 1):\n",
    "            labels ='Open'   \n",
    "        if(left_eye_pred[0] == 0):\n",
    "            labels ='Closed'\n",
    "        break\n",
    "\n",
    "    if(right_eye_pred[0] == 0 and left_eye_pred == 0):\n",
    "        time += 1\n",
    "        cv2.putText(frame,\"Inactive\",(10,height-20), font, 1,(255,255,255),1,cv2.LINE_AA)\n",
    "    # if(right_eye_pred[0]==1 or left_eye_pred[0]==1):\n",
    "    else:\n",
    "        time -= 1\n",
    "        cv2.putText(frame,\"Active\",(10,height-20), font, 1,(255,255,255),1,cv2.LINE_AA)\n",
    "        \n",
    "    \n",
    "        \n",
    "    if(time<0):\n",
    "        time=0   \n",
    "    cv2.putText(frame,'Wake up Time !!:'+str(time),(300,height-20), font, 1,(0,0,255),1,cv2.LINE_AA)\n",
    "    if(time>10):\n",
    "        #person is feeling dazzi we will alert :\n",
    "        cv2.imwrite(os.path.join(path,'image.jpg'),frame)\n",
    "        try:\n",
    "            alarm_sound.play()\n",
    "            \n",
    "        except:  # isplaying = False\n",
    "            pass\n",
    "        if(thick < 16):\n",
    "            thick = thick+2\n",
    "        else:\n",
    "            thick=thick-2\n",
    "            if(thick<2):\n",
    "                thick=2\n",
    "        cv2.rectangle(frame,(0,0),(widtrh,height),(0,0,255),thick)\n",
    "    cv2.imshow('frame',frame)\n",
    "    if cv2.waitKey(1) & 0xFF == ord('q'):\n",
    "        break\n",
    "    \n",
    "capture.release()\n",
    "cv2.destroyAllWindows()"
   ]
  },
  {
   "cell_type": "code",
   "execution_count": null,
   "id": "5e01a832",
   "metadata": {},
   "outputs": [],
   "source": [
    "import matplotlib as plt\n",
    "plt.imshow(frame)\n",
    "plt.title('El Bruno - Office')\n",
    "plt.show()"
   ]
  },
  {
   "cell_type": "code",
   "execution_count": null,
   "id": "679fc55e",
   "metadata": {},
   "outputs": [],
   "source": []
  }
 ],
 "metadata": {
  "kernelspec": {
   "display_name": "Python 3",
   "language": "python",
   "name": "python3"
  },
  "language_info": {
   "codemirror_mode": {
    "name": "ipython",
    "version": 3
   },
   "file_extension": ".py",
   "mimetype": "text/x-python",
   "name": "python",
   "nbconvert_exporter": "python",
   "pygments_lexer": "ipython3",
   "version": "3.8.8"
  }
 },
 "nbformat": 4,
 "nbformat_minor": 5
}
