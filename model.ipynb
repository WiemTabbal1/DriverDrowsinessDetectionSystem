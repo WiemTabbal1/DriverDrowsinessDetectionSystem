{
 "cells": [
  {
   "cell_type": "code",
   "execution_count": 52,
   "id": "historic-session",
   "metadata": {},
   "outputs": [],
   "source": [
    "# importing required libraries:\n",
    "import numpy as np\n",
    "import cv2\n",
    "import os\n",
    "import random\n",
    "import matplotlib.pyplot as plt\n",
    "import pickle"
   ]
  },
  {
   "cell_type": "code",
   "execution_count": 53,
   "id": "first-wheel",
   "metadata": {},
   "outputs": [],
   "source": [
    "# setting the path to our eye dataset: \n",
    "Directory = r'C:\\Users\\USER\\dataset_new\\train'\n",
    "# specify two categories on which we want to train our data:\n",
    "CATEGORIES = ['Closed' , 'Open']"
   ]
  },
  {
   "cell_type": "code",
   "execution_count": 54,
   "id": "level-spine",
   "metadata": {},
   "outputs": [],
   "source": [
    "#setting image size:\n",
    "img_size = 24\n",
    "data = []\n",
    "\n",
    "#iterating over each image and get the image in array form,\n",
    "for category in CATEGORIES:\n",
    "    folder = os.path.join(Directory,category)\n",
    "    label = CATEGORIES.index(category)\n",
    "    for img in os.listdir(folder):\n",
    "        img_path = os.path.join(folder, img)\n",
    "        img_arr = cv2.imread(img_path)\n",
    "        img_arr = cv2.cvtColor(img_arr, cv2.COLOR_BGR2GRAY)\n",
    "        img_arr = cv2.resize(img_arr,(img_size, img_size),1)\n",
    "        data.append([img_arr , label])"
   ]
  },
  {
   "cell_type": "code",
   "execution_count": 55,
   "id": "ready-drove",
   "metadata": {},
   "outputs": [
    {
     "data": {
      "text/plain": [
       "1234"
      ]
     },
     "execution_count": 55,
     "metadata": {},
     "output_type": "execute_result"
    }
   ],
   "source": [
    "# see the length of data:\n",
    "len(data)"
   ]
  },
  {
   "cell_type": "code",
   "execution_count": 56,
   "id": "japanese-reference",
   "metadata": {},
   "outputs": [],
   "source": [
    "# we shuffle the data to get random images of open eyes and closed eyes:\n",
    "random.shuffle(data)"
   ]
  },
  {
   "cell_type": "code",
   "execution_count": 57,
   "id": "cognitive-purple",
   "metadata": {},
   "outputs": [],
   "source": [
    "# dividing features and label for training the model: \n",
    "X = []\n",
    "Y = []\n",
    "\n",
    "for features,label in data:\n",
    "    X.append(features)\n",
    "    Y.append(label)"
   ]
  },
  {
   "cell_type": "code",
   "execution_count": 58,
   "id": "answering-steel",
   "metadata": {},
   "outputs": [],
   "source": [
    "#covert them into array:\n",
    "X = np.array(X)\n",
    "Y = np.array(Y)"
   ]
  },
  {
   "cell_type": "code",
   "execution_count": 59,
   "id": "headed-addiction",
   "metadata": {},
   "outputs": [],
   "source": [
    "# save the data into system:\n",
    "pickle.dump(X , open('X.pkl' , 'wb'))\n",
    "pickle.dump(Y , open('Y.pkl' , 'wb'))"
   ]
  },
  {
   "cell_type": "code",
   "execution_count": 60,
   "id": "pretty-constitution",
   "metadata": {},
   "outputs": [],
   "source": [
    "# normalize the image array:\n",
    "X = X/255"
   ]
  },
  {
   "cell_type": "code",
   "execution_count": 61,
   "id": "scheduled-silver",
   "metadata": {},
   "outputs": [
    {
     "data": {
      "text/plain": [
       "array([[[0.30588235, 0.29803922, 0.28235294, ..., 0.4627451 ,\n",
       "         0.57254902, 0.61568627],\n",
       "        [0.48627451, 0.56862745, 0.50980392, ..., 0.42352941,\n",
       "         0.51764706, 0.60392157],\n",
       "        [0.64313725, 0.61176471, 0.58039216, ..., 0.43137255,\n",
       "         0.47058824, 0.54509804],\n",
       "        ...,\n",
       "        [0.51764706, 0.52156863, 0.50980392, ..., 0.24313725,\n",
       "         0.26666667, 0.26666667],\n",
       "        [0.52156863, 0.50980392, 0.49803922, ..., 0.24705882,\n",
       "         0.28627451, 0.29803922],\n",
       "        [0.51764706, 0.50588235, 0.50196078, ..., 0.2745098 ,\n",
       "         0.30196078, 0.32156863]],\n",
       "\n",
       "       [[0.3372549 , 0.44705882, 0.55294118, ..., 0.30588235,\n",
       "         0.3372549 , 0.36470588],\n",
       "        [0.41960784, 0.44705882, 0.4745098 , ..., 0.31372549,\n",
       "         0.29803922, 0.30196078],\n",
       "        [0.4745098 , 0.43529412, 0.47058824, ..., 0.22745098,\n",
       "         0.20784314, 0.28235294],\n",
       "        ...,\n",
       "        [0.5372549 , 0.52156863, 0.51372549, ..., 0.74117647,\n",
       "         0.6       , 0.62352941],\n",
       "        [0.51372549, 0.54901961, 0.4627451 , ..., 0.69019608,\n",
       "         0.64313725, 0.69803922],\n",
       "        [0.56862745, 0.56862745, 0.58823529, ..., 0.6627451 ,\n",
       "         0.61960784, 0.65490196]],\n",
       "\n",
       "       [[0.50588235, 0.51372549, 0.52941176, ..., 0.16470588,\n",
       "         0.13333333, 0.11372549],\n",
       "        [0.50980392, 0.5254902 , 0.50196078, ..., 0.17254902,\n",
       "         0.14117647, 0.11764706],\n",
       "        [0.49411765, 0.47843137, 0.4745098 , ..., 0.22352941,\n",
       "         0.15294118, 0.11372549],\n",
       "        ...,\n",
       "        [0.23137255, 0.24705882, 0.25882353, ..., 0.39215686,\n",
       "         0.38431373, 0.38823529],\n",
       "        [0.28235294, 0.24705882, 0.28627451, ..., 0.42352941,\n",
       "         0.4       , 0.38823529],\n",
       "        [0.33333333, 0.31372549, 0.26666667, ..., 0.43921569,\n",
       "         0.42352941, 0.39215686]],\n",
       "\n",
       "       ...,\n",
       "\n",
       "       [[0.67843137, 0.69803922, 0.74117647, ..., 0.77647059,\n",
       "         0.79607843, 0.83529412],\n",
       "        [0.6627451 , 0.72156863, 0.67843137, ..., 0.74901961,\n",
       "         0.76470588, 0.80392157],\n",
       "        [0.69803922, 0.65490196, 0.61960784, ..., 0.64705882,\n",
       "         0.69411765, 0.75686275],\n",
       "        ...,\n",
       "        [0.82745098, 0.83529412, 0.84313725, ..., 0.68627451,\n",
       "         0.73333333, 0.78823529],\n",
       "        [0.82352941, 0.83137255, 0.83921569, ..., 0.69803922,\n",
       "         0.75294118, 0.79607843],\n",
       "        [0.83137255, 0.82352941, 0.83921569, ..., 0.70980392,\n",
       "         0.80784314, 0.82352941]],\n",
       "\n",
       "       [[0.15686275, 0.15294118, 0.12156863, ..., 0.52941176,\n",
       "         0.45490196, 0.34509804],\n",
       "        [0.2       , 0.18431373, 0.16862745, ..., 0.43529412,\n",
       "         0.43529412, 0.45098039],\n",
       "        [0.23137255, 0.20784314, 0.19607843, ..., 0.52156863,\n",
       "         0.51764706, 0.4       ],\n",
       "        ...,\n",
       "        [0.98823529, 0.89019608, 0.89411765, ..., 0.92941176,\n",
       "         0.87843137, 0.86666667],\n",
       "        [0.86666667, 0.94509804, 0.87843137, ..., 0.91372549,\n",
       "         0.87843137, 0.85882353],\n",
       "        [0.8745098 , 0.89411765, 0.85098039, ..., 0.88235294,\n",
       "         0.8745098 , 0.83921569]],\n",
       "\n",
       "       [[0.31372549, 0.31764706, 0.32941176, ..., 0.34509804,\n",
       "         0.35294118, 0.36862745],\n",
       "        [0.32156863, 0.3254902 , 0.32156863, ..., 0.28627451,\n",
       "         0.30196078, 0.34117647],\n",
       "        [0.31764706, 0.3254902 , 0.31372549, ..., 0.25490196,\n",
       "         0.28627451, 0.31372549],\n",
       "        ...,\n",
       "        [0.31372549, 0.28627451, 0.29019608, ..., 0.33333333,\n",
       "         0.31764706, 0.30980392],\n",
       "        [0.32156863, 0.29803922, 0.28235294, ..., 0.3254902 ,\n",
       "         0.31764706, 0.31372549],\n",
       "        [0.30980392, 0.30980392, 0.30588235, ..., 0.31764706,\n",
       "         0.30980392, 0.28235294]]])"
      ]
     },
     "execution_count": 61,
     "metadata": {},
     "output_type": "execute_result"
    }
   ],
   "source": [
    "X"
   ]
  },
  {
   "cell_type": "code",
   "execution_count": 62,
   "id": "current-pasta",
   "metadata": {},
   "outputs": [
    {
     "data": {
      "text/plain": [
       "(1234, 24, 24, 1)"
      ]
     },
     "execution_count": 62,
     "metadata": {},
     "output_type": "execute_result"
    }
   ],
   "source": [
    "# reshape the X array to (24,24,1)\n",
    "img_rows,img_cols = 24,24\n",
    "X = X.reshape(X.shape[0],img_rows,img_cols,1)\n",
    "X.shape"
   ]
  },
  {
   "cell_type": "code",
   "execution_count": 63,
   "id": "inner-greensboro",
   "metadata": {},
   "outputs": [
    {
     "name": "stdout",
     "output_type": "stream",
     "text": [
      "Requirement already satisfied: keras in c:\\users\\user\\anaconda3\\lib\\site-packages (2.3.1)\n",
      "Requirement already satisfied: six>=1.9.0 in c:\\users\\user\\anaconda3\\lib\\site-packages (from keras) (1.15.0)\n",
      "Requirement already satisfied: scipy>=0.14 in c:\\users\\user\\anaconda3\\lib\\site-packages (from keras) (1.6.2)\n",
      "Requirement already satisfied: keras-applications>=1.0.6 in c:\\users\\user\\anaconda3\\lib\\site-packages (from keras) (1.0.8)\n",
      "Requirement already satisfied: pyyaml in c:\\users\\user\\anaconda3\\lib\\site-packages (from keras) (5.4.1)\n",
      "Requirement already satisfied: h5py in c:\\users\\user\\anaconda3\\lib\\site-packages (from keras) (2.10.0)\n",
      "Requirement already satisfied: numpy>=1.9.1 in c:\\users\\user\\anaconda3\\lib\\site-packages (from keras) (1.18.5)\n",
      "Requirement already satisfied: keras-preprocessing>=1.0.5 in c:\\users\\user\\anaconda3\\lib\\site-packages (from keras) (1.1.2)\n"
     ]
    }
   ],
   "source": [
    "!pip install keras\n"
   ]
  },
  {
   "cell_type": "code",
   "execution_count": 64,
   "id": "fce46419",
   "metadata": {},
   "outputs": [
    {
     "name": "stdout",
     "output_type": "stream",
     "text": [
      "Requirement already satisfied: tensorflow in c:\\users\\user\\anaconda3\\lib\\site-packages (2.3.0)\n",
      "Collecting gast==0.3.3\n",
      "  Using cached gast-0.3.3-py2.py3-none-any.whl (9.7 kB)\n",
      "Requirement already satisfied: protobuf>=3.9.2 in c:\\users\\user\\anaconda3\\lib\\site-packages (from tensorflow) (3.19.1)\n",
      "Requirement already satisfied: wheel>=0.26 in c:\\users\\user\\anaconda3\\lib\\site-packages (from tensorflow) (0.36.2)\n",
      "Requirement already satisfied: termcolor>=1.1.0 in c:\\users\\user\\anaconda3\\lib\\site-packages (from tensorflow) (2.1.0)\n",
      "Requirement already satisfied: six>=1.12.0 in c:\\users\\user\\anaconda3\\lib\\site-packages (from tensorflow) (1.15.0)\n",
      "Collecting scipy==1.4.1\n",
      "  Using cached scipy-1.4.1-cp38-cp38-win_amd64.whl (31.0 MB)\n",
      "Requirement already satisfied: astunparse==1.6.3 in c:\\users\\user\\anaconda3\\lib\\site-packages (from tensorflow) (1.6.3)\n",
      "Requirement already satisfied: opt-einsum>=2.3.2 in c:\\users\\user\\anaconda3\\lib\\site-packages (from tensorflow) (3.3.0)\n",
      "Requirement already satisfied: wrapt>=1.11.1 in c:\\users\\user\\anaconda3\\lib\\site-packages (from tensorflow) (1.12.1)\n",
      "Requirement already satisfied: grpcio>=1.8.6 in c:\\users\\user\\anaconda3\\lib\\site-packages (from tensorflow) (1.36.1)\n",
      "Requirement already satisfied: absl-py>=0.7.0 in c:\\users\\user\\anaconda3\\lib\\site-packages (from tensorflow) (1.3.0)\n",
      "Requirement already satisfied: numpy<1.19.0,>=1.16.0 in c:\\users\\user\\anaconda3\\lib\\site-packages (from tensorflow) (1.18.5)\n",
      "Requirement already satisfied: keras-preprocessing<1.2,>=1.1.1 in c:\\users\\user\\anaconda3\\lib\\site-packages (from tensorflow) (1.1.2)\n",
      "Collecting tensorflow-estimator<2.4.0,>=2.3.0\n",
      "  Using cached tensorflow_estimator-2.3.0-py2.py3-none-any.whl (459 kB)\n",
      "Requirement already satisfied: google-pasta>=0.1.8 in c:\\users\\user\\anaconda3\\lib\\site-packages (from tensorflow) (0.2.0)\n",
      "Requirement already satisfied: h5py<2.11.0,>=2.10.0 in c:\\users\\user\\anaconda3\\lib\\site-packages (from tensorflow) (2.10.0)\n",
      "Requirement already satisfied: tensorboard<3,>=2.3.0 in c:\\users\\user\\anaconda3\\lib\\site-packages (from tensorflow) (2.10.0)\n",
      "Requirement already satisfied: google-auth<3,>=1.6.3 in c:\\users\\user\\anaconda3\\lib\\site-packages (from tensorboard<3,>=2.3.0->tensorflow) (2.6.0)\n",
      "Requirement already satisfied: google-auth-oauthlib<0.5,>=0.4.1 in c:\\users\\user\\anaconda3\\lib\\site-packages (from tensorboard<3,>=2.3.0->tensorflow) (0.4.4)\n",
      "Requirement already satisfied: werkzeug>=1.0.1 in c:\\users\\user\\anaconda3\\lib\\site-packages (from tensorboard<3,>=2.3.0->tensorflow) (1.0.1)\n",
      "Requirement already satisfied: tensorboard-data-server<0.7.0,>=0.6.0 in c:\\users\\user\\anaconda3\\lib\\site-packages (from tensorboard<3,>=2.3.0->tensorflow) (0.6.1)\n",
      "Requirement already satisfied: setuptools>=41.0.0 in c:\\users\\user\\anaconda3\\lib\\site-packages (from tensorboard<3,>=2.3.0->tensorflow) (52.0.0.post20210125)\n",
      "Requirement already satisfied: tensorboard-plugin-wit>=1.6.0 in c:\\users\\user\\anaconda3\\lib\\site-packages (from tensorboard<3,>=2.3.0->tensorflow) (1.8.1)\n",
      "Requirement already satisfied: markdown>=2.6.8 in c:\\users\\user\\anaconda3\\lib\\site-packages (from tensorboard<3,>=2.3.0->tensorflow) (3.3.4)\n",
      "Requirement already satisfied: requests<3,>=2.21.0 in c:\\users\\user\\anaconda3\\lib\\site-packages (from tensorboard<3,>=2.3.0->tensorflow) (2.25.1)\n",
      "Requirement already satisfied: rsa<5,>=3.1.4 in c:\\users\\user\\anaconda3\\lib\\site-packages (from google-auth<3,>=1.6.3->tensorboard<3,>=2.3.0->tensorflow) (4.7.2)\n",
      "Requirement already satisfied: pyasn1-modules>=0.2.1 in c:\\users\\user\\anaconda3\\lib\\site-packages (from google-auth<3,>=1.6.3->tensorboard<3,>=2.3.0->tensorflow) (0.2.8)\n",
      "Requirement already satisfied: cachetools<6.0,>=2.0.0 in c:\\users\\user\\anaconda3\\lib\\site-packages (from google-auth<3,>=1.6.3->tensorboard<3,>=2.3.0->tensorflow) (4.2.2)\n",
      "Requirement already satisfied: requests-oauthlib>=0.7.0 in c:\\users\\user\\anaconda3\\lib\\site-packages (from google-auth-oauthlib<0.5,>=0.4.1->tensorboard<3,>=2.3.0->tensorflow) (1.3.0)\n",
      "Requirement already satisfied: pyasn1<0.5.0,>=0.4.6 in c:\\users\\user\\anaconda3\\lib\\site-packages (from pyasn1-modules>=0.2.1->google-auth<3,>=1.6.3->tensorboard<3,>=2.3.0->tensorflow) (0.4.8)\n",
      "Requirement already satisfied: idna<3,>=2.5 in c:\\users\\user\\anaconda3\\lib\\site-packages (from requests<3,>=2.21.0->tensorboard<3,>=2.3.0->tensorflow) (2.10)\n",
      "Requirement already satisfied: chardet<5,>=3.0.2 in c:\\users\\user\\anaconda3\\lib\\site-packages (from requests<3,>=2.21.0->tensorboard<3,>=2.3.0->tensorflow) (4.0.0)\n",
      "Requirement already satisfied: urllib3<1.27,>=1.21.1 in c:\\users\\user\\anaconda3\\lib\\site-packages (from requests<3,>=2.21.0->tensorboard<3,>=2.3.0->tensorflow) (1.26.4)\n",
      "Requirement already satisfied: certifi>=2017.4.17 in c:\\users\\user\\anaconda3\\lib\\site-packages (from requests<3,>=2.21.0->tensorboard<3,>=2.3.0->tensorflow) (2020.12.5)\n",
      "Requirement already satisfied: oauthlib>=3.0.0 in c:\\users\\user\\anaconda3\\lib\\site-packages (from requests-oauthlib>=0.7.0->google-auth-oauthlib<0.5,>=0.4.1->tensorboard<3,>=2.3.0->tensorflow) (3.2.1)\n",
      "Installing collected packages: tensorflow-estimator, scipy, gast\n",
      "  Attempting uninstall: tensorflow-estimator\n",
      "    Found existing installation: tensorflow-estimator 2.1.0\n",
      "    Uninstalling tensorflow-estimator-2.1.0:\n",
      "      Successfully uninstalled tensorflow-estimator-2.1.0\n",
      "  Attempting uninstall: scipy\n",
      "    Found existing installation: scipy 1.6.2\n",
      "    Uninstalling scipy-1.6.2:\n",
      "      Successfully uninstalled scipy-1.6.2\n"
     ]
    },
    {
     "name": "stderr",
     "output_type": "stream",
     "text": [
      "ERROR: Could not install packages due to an OSError: [WinError 5] Accès refusé: 'C:\\\\Users\\\\USER\\\\anaconda3\\\\Lib\\\\site-packages\\\\~cipy\\\\fft\\\\_pocketfft\\\\pypocketfft.cp38-win_amd64.pyd'\n",
      "Consider using the `--user` option or check the permissions.\n",
      "\n"
     ]
    }
   ],
   "source": [
    "!pip install tensorflow"
   ]
  },
  {
   "cell_type": "code",
   "execution_count": 65,
   "id": "bdac1b72",
   "metadata": {},
   "outputs": [],
   "source": [
    "# we will be using keras to create the model:\n",
    "\n",
    "try:\n",
    "    import tensorflow as tf\n",
    "    from tensorflow.keras.models import Sequential\n",
    "    from tensorflow.keras.layers import Dense, LSTM, Dropout, GRU, Bidirectional, MaxPooling2D , Flatten , Dense, Conv2D\n",
    "    from tensorflow.keras.optimizers import SGD\n",
    "except:\n",
    "    !pip install keras\n",
    "    !pip install h5py==3.1.0 numpy==1.19.2 six==1.15.0 typing-extensions==3.7.4 wrapt==1.12.1 botocore==1.20.106 gast==0.4.0 tensorboard==2.6 tensorflow-estimator==2.6 absl-py==0.9 protobuf==3.11.2 scikit-learn==0.24 fsspec==2021.07.0 google-api-python-client==1.12.1\n",
    "    !pip install --upgrade tensorflow\n",
    "    !pip install --ignore-installed --upgrade tensorflow-gpu==1.15.0\n",
    "    import tensorflow as tf\n",
    "    from tensorflow.keras.models import Sequential\n",
    "    from tensorflow.keras.layers import Dense, LSTM, Dropout, GRU, Bidirectional\n",
    "    from tensorflow.keras.optimizers import SGD"
   ]
  },
  {
   "cell_type": "code",
   "execution_count": 66,
   "id": "soviet-hamilton",
   "metadata": {},
   "outputs": [],
   "source": [
    "# creating model:\n",
    "model = Sequential()\n",
    "\n",
    "model.add(Conv2D(64 , (3,3) , activation = 'relu' , input_shape= X.shape[1:]))\n",
    "model.add(MaxPooling2D((1,1)))\n",
    "\n",
    "model.add(Conv2D(64 , (3,3) , activation = 'relu'))\n",
    "model.add(MaxPooling2D((1,1)))\n",
    "\n",
    "model.add(Conv2D(64 , (3,3) , activation = 'relu'))\n",
    "model.add(MaxPooling2D((1,1)))\n",
    "\n",
    "model.add(Flatten())\n",
    "\n",
    "model.add(Dense(128, activation = 'relu'))\n",
    "\n",
    "model.add(Dense(2, activation = 'softmax'))"
   ]
  },
  {
   "cell_type": "code",
   "execution_count": 67,
   "id": "seven-definition",
   "metadata": {},
   "outputs": [],
   "source": [
    "# compile model that we have created\n",
    "model.compile(optimizer = 'adam' , loss = 'sparse_categorical_crossentropy' , metrics = ['accuracy'])"
   ]
  },
  {
   "cell_type": "code",
   "execution_count": 68,
   "id": "nasty-measurement",
   "metadata": {},
   "outputs": [
    {
     "name": "stdout",
     "output_type": "stream",
     "text": [
      "Epoch 1/5\n",
      "35/35 [==============================] - 2s 71ms/step - loss: 0.3908 - accuracy: 0.8225 - val_loss: 0.2572 - val_accuracy: 0.9113\n",
      "Epoch 2/5\n",
      "35/35 [==============================] - 2s 65ms/step - loss: 0.1890 - accuracy: 0.9234 - val_loss: 0.2074 - val_accuracy: 0.9274\n",
      "Epoch 3/5\n",
      "35/35 [==============================] - 2s 63ms/step - loss: 0.1292 - accuracy: 0.9477 - val_loss: 0.1487 - val_accuracy: 0.9355\n",
      "Epoch 4/5\n",
      "35/35 [==============================] - 2s 63ms/step - loss: 0.1111 - accuracy: 0.9586 - val_loss: 0.1701 - val_accuracy: 0.9516\n",
      "Epoch 5/5\n",
      "35/35 [==============================] - 2s 63ms/step - loss: 0.0763 - accuracy: 0.9676 - val_loss: 0.0700 - val_accuracy: 0.9677\n"
     ]
    },
    {
     "data": {
      "text/plain": [
       "<tensorflow.python.keras.callbacks.History at 0x2a0803ca7f0>"
      ]
     },
     "execution_count": 68,
     "metadata": {},
     "output_type": "execute_result"
    }
   ],
   "source": [
    "# fit X , Y to the model to see accuracy of model:\n",
    "model.fit(X, Y, epochs = 5 , validation_split = 0.1 , batch_size = 32)"
   ]
  },
  {
   "cell_type": "markdown",
   "id": "engaged-exclusive",
   "metadata": {},
   "source": []
  },
  {
   "cell_type": "code",
   "execution_count": 70,
   "id": "purple-worry",
   "metadata": {},
   "outputs": [],
   "source": [
    "model.save(\"custmodel.h5\")"
   ]
  },
  {
   "cell_type": "code",
   "execution_count": null,
   "id": "7d1b0138",
   "metadata": {},
   "outputs": [],
   "source": []
  }
 ],
 "metadata": {
  "kernelspec": {
   "display_name": "Python 3",
   "language": "python",
   "name": "python3"
  },
  "language_info": {
   "codemirror_mode": {
    "name": "ipython",
    "version": 3
   },
   "file_extension": ".py",
   "mimetype": "text/x-python",
   "name": "python",
   "nbconvert_exporter": "python",
   "pygments_lexer": "ipython3",
   "version": "3.8.8"
  }
 },
 "nbformat": 4,
 "nbformat_minor": 5
}
